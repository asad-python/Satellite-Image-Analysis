{
  "cells": [
    {
      "cell_type": "code",
      "execution_count": 1,
      "metadata": {
        "colab": {
          "base_uri": "https://localhost:8080/"
        },
        "id": "VblSO1Rt6dqS",
        "outputId": "9d04b4e9-a0bc-4408-e5e0-6bd8352ec095"
      },
      "outputs": [
        {
          "output_type": "stream",
          "name": "stdout",
          "text": [
            "Collecting sentinelsat\n",
            "  Downloading sentinelsat-1.1.1-py3-none-any.whl (48 kB)\n",
            "\u001b[?25l\r\u001b[K     |██████▊                         | 10 kB 24.5 MB/s eta 0:00:01\r\u001b[K     |█████████████▌                  | 20 kB 30.6 MB/s eta 0:00:01\r\u001b[K     |████████████████████▏           | 30 kB 15.7 MB/s eta 0:00:01\r\u001b[K     |███████████████████████████     | 40 kB 13.1 MB/s eta 0:00:01\r\u001b[K     |████████████████████████████████| 48 kB 3.4 MB/s \n",
            "\u001b[?25hRequirement already satisfied: click>=7.1 in /usr/local/lib/python3.7/dist-packages (from sentinelsat) (7.1.2)\n",
            "Collecting geojson>=2\n",
            "  Downloading geojson-2.5.0-py2.py3-none-any.whl (14 kB)\n",
            "Collecting html2text\n",
            "  Downloading html2text-2020.1.16-py3-none-any.whl (32 kB)\n",
            "Requirement already satisfied: requests in /usr/local/lib/python3.7/dist-packages (from sentinelsat) (2.23.0)\n",
            "Collecting geomet\n",
            "  Downloading geomet-0.3.0-py3-none-any.whl (28 kB)\n",
            "Requirement already satisfied: tqdm>=4.58 in /usr/local/lib/python3.7/dist-packages (from sentinelsat) (4.63.0)\n",
            "Requirement already satisfied: six in /usr/local/lib/python3.7/dist-packages (from geomet->sentinelsat) (1.15.0)\n",
            "Requirement already satisfied: urllib3!=1.25.0,!=1.25.1,<1.26,>=1.21.1 in /usr/local/lib/python3.7/dist-packages (from requests->sentinelsat) (1.24.3)\n",
            "Requirement already satisfied: chardet<4,>=3.0.2 in /usr/local/lib/python3.7/dist-packages (from requests->sentinelsat) (3.0.4)\n",
            "Requirement already satisfied: idna<3,>=2.5 in /usr/local/lib/python3.7/dist-packages (from requests->sentinelsat) (2.10)\n",
            "Requirement already satisfied: certifi>=2017.4.17 in /usr/local/lib/python3.7/dist-packages (from requests->sentinelsat) (2021.10.8)\n",
            "Installing collected packages: html2text, geomet, geojson, sentinelsat\n",
            "Successfully installed geojson-2.5.0 geomet-0.3.0 html2text-2020.1.16 sentinelsat-1.1.1\n"
          ]
        }
      ],
      "source": [
        "!pip install sentinelsat"
      ]
    },
    {
      "cell_type": "code",
      "execution_count": 2,
      "metadata": {
        "id": "lbUN0nGL6-nA"
      },
      "outputs": [],
      "source": [
        "from sentinelsat import SentinelAPI\n",
        "\n",
        "user = 'asad_007' \n",
        "password = '987654321' \n",
        "api = SentinelAPI(user, password, 'https://scihub.copernicus.eu/dhus')"
      ]
    },
    {
      "cell_type": "code",
      "execution_count": 3,
      "metadata": {
        "colab": {
          "base_uri": "https://localhost:8080/"
        },
        "id": "vfDf20-M8lIp",
        "outputId": "77a6dfd6-ff64-4c41-97f0-3f708928cb5d"
      },
      "outputs": [
        {
          "output_type": "stream",
          "name": "stdout",
          "text": [
            "--2022-03-16 14:36:03--  https://www.dropbox.com/s/ymxuxpcnj88mlz2/NReserve.zip\n",
            "Resolving www.dropbox.com (www.dropbox.com)... 162.125.65.18, 2620:100:6027:18::a27d:4812\n",
            "Connecting to www.dropbox.com (www.dropbox.com)|162.125.65.18|:443... connected.\n",
            "HTTP request sent, awaiting response... 301 Moved Permanently\n",
            "Location: /s/raw/ymxuxpcnj88mlz2/NReserve.zip [following]\n",
            "--2022-03-16 14:36:03--  https://www.dropbox.com/s/raw/ymxuxpcnj88mlz2/NReserve.zip\n",
            "Reusing existing connection to www.dropbox.com:443.\n",
            "HTTP request sent, awaiting response... 302 Found\n",
            "Location: https://uc1cf43d5ea3dfb615f318e9e1b3.dl.dropboxusercontent.com/cd/0/inline/Bhm78zpqMXbpX6antq_D9oH1h7od9iLdpJm0ZgtQbZ-m4-PfNp-w71tCMNtojoiCtmMLkSQ7d8INeSEbn3vXcw2rNvZlR8OiaDJ8ge6F3oec_1H51e73v1Ml9H1lKTMhdzRwTYwHEAWVIRHMRumOX_WefqcGjSMew1A6934SgEkTYw/file# [following]\n",
            "--2022-03-16 14:36:04--  https://uc1cf43d5ea3dfb615f318e9e1b3.dl.dropboxusercontent.com/cd/0/inline/Bhm78zpqMXbpX6antq_D9oH1h7od9iLdpJm0ZgtQbZ-m4-PfNp-w71tCMNtojoiCtmMLkSQ7d8INeSEbn3vXcw2rNvZlR8OiaDJ8ge6F3oec_1H51e73v1Ml9H1lKTMhdzRwTYwHEAWVIRHMRumOX_WefqcGjSMew1A6934SgEkTYw/file\n",
            "Resolving uc1cf43d5ea3dfb615f318e9e1b3.dl.dropboxusercontent.com (uc1cf43d5ea3dfb615f318e9e1b3.dl.dropboxusercontent.com)... 162.125.4.15, 2620:100:6027:15::a27d:480f\n",
            "Connecting to uc1cf43d5ea3dfb615f318e9e1b3.dl.dropboxusercontent.com (uc1cf43d5ea3dfb615f318e9e1b3.dl.dropboxusercontent.com)|162.125.4.15|:443... connected.\n",
            "HTTP request sent, awaiting response... 302 Found\n",
            "Location: /cd/0/inline2/Bhkzow3Dl4bBAe7Ybv_dCFTsWWmODgnJ8XkCFbPrM7Nq-ZZT1c_ySOSDCWCOw_-qbKxYx_sIPA4iomYLpTxY8sh4HLcF79_uMb8AKtXxCkoJwE1BB9G1uYmZAEPGGk8TQIJdO1LCSPBwUDzk0asUDWItpkvuMjkcPbRXiUOec4MvtAEr56n6b-y_QyavN8X6NysZn4tilAkPEwY61LA3qt4RunqWL_yBeqK__AemMZ5wpD30ElmnXcs9nBCXtdddLKsHPdCOWRUMvrTuB9N1kN3SZ_cNMUockcboxSjLdatf3PbbtoQwrZkmZmGoo2E__MOrJ4a4dNvGGLR-Y1zCa_rn0uAn50EyO8S8KNRWvd7qyovqMj7shbNJqQPmK8YQl7twYIjRpDIlpsngNNXKPCbxH2at61bp0WnPOvRPd1ENfA/file [following]\n",
            "--2022-03-16 14:36:04--  https://uc1cf43d5ea3dfb615f318e9e1b3.dl.dropboxusercontent.com/cd/0/inline2/Bhkzow3Dl4bBAe7Ybv_dCFTsWWmODgnJ8XkCFbPrM7Nq-ZZT1c_ySOSDCWCOw_-qbKxYx_sIPA4iomYLpTxY8sh4HLcF79_uMb8AKtXxCkoJwE1BB9G1uYmZAEPGGk8TQIJdO1LCSPBwUDzk0asUDWItpkvuMjkcPbRXiUOec4MvtAEr56n6b-y_QyavN8X6NysZn4tilAkPEwY61LA3qt4RunqWL_yBeqK__AemMZ5wpD30ElmnXcs9nBCXtdddLKsHPdCOWRUMvrTuB9N1kN3SZ_cNMUockcboxSjLdatf3PbbtoQwrZkmZmGoo2E__MOrJ4a4dNvGGLR-Y1zCa_rn0uAn50EyO8S8KNRWvd7qyovqMj7shbNJqQPmK8YQl7twYIjRpDIlpsngNNXKPCbxH2at61bp0WnPOvRPd1ENfA/file\n",
            "Reusing existing connection to uc1cf43d5ea3dfb615f318e9e1b3.dl.dropboxusercontent.com:443.\n",
            "HTTP request sent, awaiting response... 200 OK\n",
            "Length: 2040 (2.0K) [application/zip]\n",
            "Saving to: ‘NReserve.zip’\n",
            "\n",
            "NReserve.zip        100%[===================>]   1.99K  --.-KB/s    in 0s      \n",
            "\n",
            "2022-03-16 14:36:04 (763 MB/s) - ‘NReserve.zip’ saved [2040/2040]\n",
            "\n"
          ]
        }
      ],
      "source": [
        "!wget https://www.dropbox.com/s/ymxuxpcnj88mlz2/NReserve.zip"
      ]
    },
    {
      "cell_type": "code",
      "execution_count": 4,
      "metadata": {
        "colab": {
          "base_uri": "https://localhost:8080/"
        },
        "id": "mIU5wNh28MlJ",
        "outputId": "5d2fecd2-4eec-40f7-c117-67ac351139b7"
      },
      "outputs": [
        {
          "output_type": "stream",
          "name": "stdout",
          "text": [
            "Collecting geopandas\n",
            "  Downloading geopandas-0.10.2-py2.py3-none-any.whl (1.0 MB)\n",
            "\u001b[K     |████████████████████████████████| 1.0 MB 14.5 MB/s \n",
            "\u001b[?25hCollecting fiona>=1.8\n",
            "  Downloading Fiona-1.8.21-cp37-cp37m-manylinux2014_x86_64.whl (16.7 MB)\n",
            "\u001b[K     |████████████████████████████████| 16.7 MB 50.9 MB/s \n",
            "\u001b[?25hRequirement already satisfied: pandas>=0.25.0 in /usr/local/lib/python3.7/dist-packages (from geopandas) (1.3.5)\n",
            "Collecting pyproj>=2.2.0\n",
            "  Downloading pyproj-3.2.1-cp37-cp37m-manylinux2010_x86_64.whl (6.3 MB)\n",
            "\u001b[K     |████████████████████████████████| 6.3 MB 60.9 MB/s \n",
            "\u001b[?25hRequirement already satisfied: shapely>=1.6 in /usr/local/lib/python3.7/dist-packages (from geopandas) (1.8.1.post1)\n",
            "Collecting click-plugins>=1.0\n",
            "  Downloading click_plugins-1.1.1-py2.py3-none-any.whl (7.5 kB)\n",
            "Collecting munch\n",
            "  Downloading munch-2.5.0-py2.py3-none-any.whl (10 kB)\n",
            "Requirement already satisfied: six>=1.7 in /usr/local/lib/python3.7/dist-packages (from fiona>=1.8->geopandas) (1.15.0)\n",
            "Collecting cligj>=0.5\n",
            "  Downloading cligj-0.7.2-py3-none-any.whl (7.1 kB)\n",
            "Requirement already satisfied: attrs>=17 in /usr/local/lib/python3.7/dist-packages (from fiona>=1.8->geopandas) (21.4.0)\n",
            "Requirement already satisfied: setuptools in /usr/local/lib/python3.7/dist-packages (from fiona>=1.8->geopandas) (57.4.0)\n",
            "Requirement already satisfied: certifi in /usr/local/lib/python3.7/dist-packages (from fiona>=1.8->geopandas) (2021.10.8)\n",
            "Requirement already satisfied: click>=4.0 in /usr/local/lib/python3.7/dist-packages (from fiona>=1.8->geopandas) (7.1.2)\n",
            "Requirement already satisfied: python-dateutil>=2.7.3 in /usr/local/lib/python3.7/dist-packages (from pandas>=0.25.0->geopandas) (2.8.2)\n",
            "Requirement already satisfied: pytz>=2017.3 in /usr/local/lib/python3.7/dist-packages (from pandas>=0.25.0->geopandas) (2018.9)\n",
            "Requirement already satisfied: numpy>=1.17.3 in /usr/local/lib/python3.7/dist-packages (from pandas>=0.25.0->geopandas) (1.21.5)\n",
            "\u001b[31mERROR: Operation cancelled by user\u001b[0m\n",
            "Traceback (most recent call last):\n",
            "  File \"/usr/local/lib/python3.7/dist-packages/pip/_vendor/pkg_resources/__init__.py\", line 3021, in _dep_map\n",
            "    return self.__dep_map\n",
            "  File \"/usr/local/lib/python3.7/dist-packages/pip/_vendor/pkg_resources/__init__.py\", line 2815, in __getattr__\n",
            "    raise AttributeError(attr)\n",
            "AttributeError: _DistInfoDistribution__dep_map\n",
            "\n",
            "During handling of the above exception, another exception occurred:\n",
            "\n",
            "Traceback (most recent call last):\n",
            "  File \"/usr/local/lib/python3.7/dist-packages/pip/_vendor/pkg_resources/__init__.py\", line 3012, in _parsed_pkg_info\n",
            "    return self._pkg_info\n",
            "  File \"/usr/local/lib/python3.7/dist-packages/pip/_vendor/pkg_resources/__init__.py\", line 2815, in __getattr__\n",
            "    raise AttributeError(attr)\n",
            "AttributeError: _pkg_info\n",
            "\n",
            "During handling of the above exception, another exception occurred:\n",
            "\n",
            "Traceback (most recent call last):\n",
            "  File \"/usr/local/lib/python3.7/dist-packages/pip/_internal/cli/base_command.py\", line 180, in _main\n",
            "    status = self.run(options, args)\n",
            "  File \"/usr/local/lib/python3.7/dist-packages/pip/_internal/cli/req_command.py\", line 199, in wrapper\n",
            "    return func(self, options, args)\n",
            "  File \"/usr/local/lib/python3.7/dist-packages/pip/_internal/commands/install.py\", line 385, in run\n",
            "    conflicts = self._determine_conflicts(to_install)\n",
            "  File \"/usr/local/lib/python3.7/dist-packages/pip/_internal/commands/install.py\", line 515, in _determine_conflicts\n",
            "    return check_install_conflicts(to_install)\n",
            "  File \"/usr/local/lib/python3.7/dist-packages/pip/_internal/operations/check.py\", line 103, in check_install_conflicts\n",
            "    package_set, _ = create_package_set_from_installed()\n",
            "  File \"/usr/local/lib/python3.7/dist-packages/pip/_internal/operations/check.py\", line 45, in create_package_set_from_installed\n",
            "    package_set[name] = PackageDetails(dist.version, dist.requires())\n",
            "  File \"/usr/local/lib/python3.7/dist-packages/pip/_vendor/pkg_resources/__init__.py\", line 2736, in requires\n",
            "    dm = self._dep_map\n",
            "  File \"/usr/local/lib/python3.7/dist-packages/pip/_vendor/pkg_resources/__init__.py\", line 3023, in _dep_map\n",
            "    self.__dep_map = self._compute_dependencies()\n",
            "  File \"/usr/local/lib/python3.7/dist-packages/pip/_vendor/pkg_resources/__init__.py\", line 3032, in _compute_dependencies\n",
            "    for req in self._parsed_pkg_info.get_all('Requires-Dist') or []:\n",
            "  File \"/usr/local/lib/python3.7/dist-packages/pip/_vendor/pkg_resources/__init__.py\", line 3015, in _parsed_pkg_info\n",
            "    self._pkg_info = email.parser.Parser().parsestr(metadata)\n",
            "  File \"/usr/lib/python3.7/email/parser.py\", line 67, in parsestr\n",
            "    return self.parse(StringIO(text), headersonly=headersonly)\n",
            "  File \"/usr/lib/python3.7/email/parser.py\", line 56, in parse\n",
            "    feedparser.feed(data)\n",
            "  File \"/usr/lib/python3.7/email/feedparser.py\", line 175, in feed\n",
            "    self._input.push(data)\n",
            "  File \"/usr/lib/python3.7/email/feedparser.py\", line 110, in push\n",
            "    parts = self._partial.readlines()\n",
            "KeyboardInterrupt\n",
            "\n",
            "During handling of the above exception, another exception occurred:\n",
            "\n",
            "Traceback (most recent call last):\n",
            "  File \"/usr/local/bin/pip3\", line 8, in <module>\n",
            "    sys.exit(main())\n",
            "  File \"/usr/local/lib/python3.7/dist-packages/pip/_internal/cli/main.py\", line 71, in main\n",
            "    return command.main(cmd_args)\n",
            "  File \"/usr/local/lib/python3.7/dist-packages/pip/_internal/cli/base_command.py\", line 104, in main\n",
            "    return self._main(args)\n",
            "  File \"/usr/local/lib/python3.7/dist-packages/pip/_internal/cli/base_command.py\", line 213, in _main\n",
            "    logger.debug(\"Exception information:\", exc_info=True)\n",
            "  File \"/usr/lib/python3.7/logging/__init__.py\", line 1366, in debug\n",
            "    self._log(DEBUG, msg, args, **kwargs)\n",
            "  File \"/usr/lib/python3.7/logging/__init__.py\", line 1514, in _log\n",
            "    self.handle(record)\n",
            "  File \"/usr/lib/python3.7/logging/__init__.py\", line 1524, in handle\n",
            "    self.callHandlers(record)\n",
            "  File \"/usr/lib/python3.7/logging/__init__.py\", line 1586, in callHandlers\n",
            "    hdlr.handle(record)\n",
            "  File \"/usr/lib/python3.7/logging/__init__.py\", line 894, in handle\n",
            "    self.emit(record)\n",
            "  File \"/usr/lib/python3.7/logging/handlers.py\", line 71, in emit\n",
            "    logging.FileHandler.emit(self, record)\n",
            "  File \"/usr/lib/python3.7/logging/__init__.py\", line 1127, in emit\n",
            "    StreamHandler.emit(self, record)\n",
            "  File \"/usr/lib/python3.7/logging/__init__.py\", line 1025, in emit\n",
            "    msg = self.format(record)\n",
            "  File \"/usr/lib/python3.7/logging/__init__.py\", line 869, in format\n",
            "    return fmt.format(record)\n",
            "  File \"/usr/local/lib/python3.7/dist-packages/pip/_internal/utils/logging.py\", line 130, in format\n",
            "    formatted = super().format(record)\n",
            "  File \"/usr/lib/python3.7/logging/__init__.py\", line 616, in format\n",
            "    record.exc_text = self.formatException(record.exc_info)\n",
            "  File \"/usr/lib/python3.7/logging/__init__.py\", line 566, in formatException\n",
            "    traceback.print_exception(ei[0], ei[1], tb, None, sio)\n",
            "  File \"/usr/lib/python3.7/traceback.py\", line 104, in print_exception\n",
            "    type(value), value, tb, limit=limit).format(chain=chain):\n",
            "  File \"/usr/lib/python3.7/traceback.py\", line 508, in __init__\n",
            "    capture_locals=capture_locals)\n",
            "  File \"/usr/lib/python3.7/traceback.py\", line 363, in extract\n",
            "    f.line\n",
            "  File \"/usr/lib/python3.7/traceback.py\", line 285, in line\n",
            "    self._line = linecache.getline(self.filename, self.lineno).strip()\n",
            "  File \"/usr/lib/python3.7/linecache.py\", line 16, in getline\n",
            "    lines = getlines(filename, module_globals)\n",
            "  File \"/usr/lib/python3.7/linecache.py\", line 47, in getlines\n",
            "    return updatecache(filename, module_globals)\n",
            "  File \"/usr/lib/python3.7/linecache.py\", line 136, in updatecache\n",
            "    with tokenize.open(fullname) as fp:\n",
            "  File \"/usr/lib/python3.7/tokenize.py\", line 449, in open\n",
            "    encoding, lines = detect_encoding(buffer.readline)\n",
            "  File \"/usr/lib/python3.7/tokenize.py\", line 418, in detect_encoding\n",
            "    first = read_or_stop()\n",
            "  File \"/usr/lib/python3.7/tokenize.py\", line 376, in read_or_stop\n",
            "    return readline()\n",
            "KeyboardInterrupt\n"
          ]
        }
      ],
      "source": [
        "!pip install geopandas"
      ]
    },
    {
      "cell_type": "code",
      "execution_count": 5,
      "metadata": {
        "colab": {
          "base_uri": "https://localhost:8080/",
          "height": 374
        },
        "id": "8ooC3wT88JdB",
        "outputId": "2777585a-d59b-420d-fd44-ede6e6406417"
      },
      "outputs": [
        {
          "output_type": "error",
          "ename": "ModuleNotFoundError",
          "evalue": "ignored",
          "traceback": [
            "\u001b[0;31m---------------------------------------------------------------------------\u001b[0m",
            "\u001b[0;31mModuleNotFoundError\u001b[0m                       Traceback (most recent call last)",
            "\u001b[0;32m<ipython-input-5-afe2de1de9b9>\u001b[0m in \u001b[0;36m<module>\u001b[0;34m()\u001b[0m\n\u001b[0;32m----> 1\u001b[0;31m \u001b[0;32mimport\u001b[0m \u001b[0mgeopandas\u001b[0m \u001b[0;32mas\u001b[0m \u001b[0mgpd\u001b[0m\u001b[0;34m\u001b[0m\u001b[0;34m\u001b[0m\u001b[0m\n\u001b[0m\u001b[1;32m      2\u001b[0m \u001b[0;32mimport\u001b[0m \u001b[0mfolium\u001b[0m\u001b[0;34m\u001b[0m\u001b[0;34m\u001b[0m\u001b[0m\n\u001b[1;32m      3\u001b[0m \u001b[0;34m\u001b[0m\u001b[0m\n\u001b[1;32m      4\u001b[0m \u001b[0mnReserve\u001b[0m \u001b[0;34m=\u001b[0m \u001b[0mgpd\u001b[0m\u001b[0;34m.\u001b[0m\u001b[0mread_file\u001b[0m\u001b[0;34m(\u001b[0m\u001b[0;34m'/content/NaturalReserve_Polygon.shp'\u001b[0m\u001b[0;34m)\u001b[0m\u001b[0;34m\u001b[0m\u001b[0;34m\u001b[0m\u001b[0m\n\u001b[1;32m      5\u001b[0m \u001b[0;34m\u001b[0m\u001b[0m\n",
            "\u001b[0;31mModuleNotFoundError\u001b[0m: No module named 'geopandas'",
            "",
            "\u001b[0;31m---------------------------------------------------------------------------\u001b[0;32m\nNOTE: If your import is failing due to a missing package, you can\nmanually install dependencies using either !pip or !apt.\n\nTo view examples of installing some common dependencies, click the\n\"Open Examples\" button below.\n\u001b[0;31m---------------------------------------------------------------------------\u001b[0m\n"
          ],
          "errorDetails": {
            "actions": [
              {
                "action": "open_url",
                "actionText": "Open Examples",
                "url": "/notebooks/snippets/importing_libraries.ipynb"
              }
            ]
          }
        }
      ],
      "source": [
        "import geopandas as gpd\n",
        "import folium \n",
        "\n",
        "nReserve = gpd.read_file('/content/NaturalReserve_Polygon.shp')\n",
        "\n",
        "m = folium.Map([41.7023292727353, 12.34697305914639], zoom_start=12)\n",
        "folium.GeoJson(nReserve).add_to(m)\n",
        "m"
      ]
    },
    {
      "cell_type": "code",
      "execution_count": null,
      "metadata": {
        "id": "0gnaEztc9cGd"
      },
      "outputs": [],
      "source": [
        "from shapely.geometry import MultiPolygon, Polygon\n",
        "\n",
        "footprint = None\n",
        "for i in nReserve['geometry']:\n",
        "    footprint = i"
      ]
    },
    {
      "cell_type": "code",
      "execution_count": null,
      "metadata": {
        "id": "fZApPGBo9cLS"
      },
      "outputs": [],
      "source": [
        "products = api.query(footprint,\n",
        "                     date = ('20190601', '20190626'),\n",
        "                     platformname = 'Sentinel-2',\n",
        "                     processinglevel = 'Level-2A',\n",
        "                     cloudcoverpercentage = (0,10)\n",
        "                    )"
      ]
    },
    {
      "cell_type": "code",
      "execution_count": null,
      "metadata": {
        "id": "WpVmwOp39ccU"
      },
      "outputs": [],
      "source": [
        "products_gdf = api.to_geodataframe(products)\n",
        "products_gdf_sorted = products_gdf.sort_values(['cloudcoverpercentage'], ascending=[True])\n",
        "products_gdf_sorted"
      ]
    },
    {
      "cell_type": "code",
      "execution_count": null,
      "metadata": {
        "id": "khti4Y759ce_"
      },
      "outputs": [],
      "source": [
        "api.download(\"16e95baf-bbcb-43fe-ab67-5fecea2ffde5\")"
      ]
    },
    {
      "cell_type": "code",
      "execution_count": null,
      "metadata": {
        "id": "EnzlSeBH9yw7"
      },
      "outputs": [],
      "source": [
        "!unzip /content/S2B_MSIL2A_20190605T100039_N0212_R122_T33TTG_20190605T143319.zip -d /content/sample_data"
      ]
    },
    {
      "cell_type": "code",
      "execution_count": null,
      "metadata": {
        "id": "5PoZZrFg9y6q"
      },
      "outputs": [],
      "source": [
        "import rasterio as rio\n",
        "R10 = '/content/sample_data/S2B_MSIL2A_20190605T100039_N0212_R122_T33TTG_20190605T143319.SAFE/GRANULE/L2A_T33TTG_A011731_20190605T100530/IMG_DATA/R10m'\n",
        "b4 = rio.open(R10+'/T33TTG_20190605T100039_B04_10m.jp2')\n",
        "b3 = rio.open(R10+'/T33TTG_20190605T100039_B03_10m.jp2')\n",
        "b2 = rio.open(R10+'/T33TTG_20190605T100039_B02_10m.jp2')\n",
        "\n",
        "\n",
        "# Create an RGB image \n",
        "with rio.open('/content/sample_data/S2B_MSIL2A_20190605T100039_N0212_R122_T33TTG_20190605T143319.SAFE/GRANULE/L2A_T33TTG_A011731_20190605T100530/IMG_DATA/RGB.tiff','w',driver='Gtiff', width=b4.width, height=b4.height, \n",
        "              count=3,crs=b4.crs,transform=b4.transform, dtype=b4.dtypes[0]) as rgb:\n",
        "    rgb.write(b2.read(1),1) \n",
        "    rgb.write(b3.read(1),2) \n",
        "    rgb.write(b4.read(1),3) \n",
        "    rgb.close()"
      ]
    },
    {
      "cell_type": "code",
      "execution_count": null,
      "metadata": {
        "id": "lUfW-N44Awef"
      },
      "outputs": [],
      "source": [
        "\n",
        "import fiona\n",
        "import rasterio\n",
        "nReserve_proj = nReserve.to_crs({'init': 'epsg:32633'})\n",
        "\n",
        "with fiona.open(\"/content/sample_data/S2B_MSIL2A_20190605T100039_N0212_R122_T33TTG_20190605T143319.SAFE/GRANULE/L2A_T33TTG_A011731_20190605T100530/IMG_DATA/RGB.tiff\") as src:\n",
        "    out_image, out_transform = rio.mask.mask(src, nReserve_proj.geometry,crop=True)\n",
        "    out_meta = src.meta.copy()\n",
        "    out_meta.update({\"driver\": \"GTiff\",\n",
        "                 \"height\": out_image.shape[1],\n",
        "                 \"width\": out_image.shape[2],\n",
        "                 \"transform\": out_transform})\n",
        "    \n",
        "with rasterio.open(\"RGB_masked.tif\", \"w\", **out_meta) as dest:\n",
        "    dest.write(out_image)"
      ]
    },
    {
      "cell_type": "code",
      "execution_count": null,
      "metadata": {
        "id": "Mjl45zy6GnUA"
      },
      "outputs": [],
      "source": [
        ""
      ]
    },
    {
      "cell_type": "code",
      "execution_count": null,
      "metadata": {
        "id": "sCoEeR4NGnW0"
      },
      "outputs": [],
      "source": [
        ""
      ]
    },
    {
      "cell_type": "code",
      "execution_count": null,
      "metadata": {
        "id": "tkJ7T26kGnZQ"
      },
      "outputs": [],
      "source": [
        ""
      ]
    },
    {
      "cell_type": "code",
      "execution_count": null,
      "metadata": {
        "id": "05zty5KuCxka"
      },
      "outputs": [],
      "source": [
        "from osgeo import gdal\n",
        "import matplotlib.pyplot as plt\n",
        "\n",
        "\n",
        "dataset = gdal.Open(r'/content/sample_data/S2B_MSIL2A_20190605T100039_N0212_R122_T33TTG_20190605T143319.SAFE/GRANULE/L2A_T33TTG_A011731_20190605T100530/IMG_DATA/RGB.tiff')\n"
      ]
    },
    {
      "cell_type": "code",
      "execution_count": null,
      "metadata": {
        "id": "Qm4Y_VafDHWf"
      },
      "outputs": [],
      "source": [
        "print(dataset.RasterCount)"
      ]
    },
    {
      "cell_type": "code",
      "execution_count": null,
      "metadata": {
        "id": "v64UpWQbDLsR"
      },
      "outputs": [],
      "source": [
        "band1 = dataset.GetRasterBand(1) # Red channel\n",
        "band2 = dataset.GetRasterBand(2) # Green channel\n",
        "band3 = dataset.GetRasterBand(3) # Blue channel"
      ]
    },
    {
      "cell_type": "code",
      "execution_count": null,
      "metadata": {
        "id": "OFG2cm6oDPAl"
      },
      "outputs": [],
      "source": [
        "b1 = band1.ReadAsArray()\n",
        "b2 = band2.ReadAsArray()\n",
        "b3 = band3.ReadAsArray()"
      ]
    },
    {
      "cell_type": "code",
      "execution_count": null,
      "metadata": {
        "id": "wXNLnScCDSLa"
      },
      "outputs": [],
      "source": [
        "import numpy as np\n",
        "img = np.dstack((b1, b2, b3))\n",
        "f = plt.figure()\n",
        "plt.imshow(img)\n",
        "plt.savefig('Tiff.png')\n",
        "plt.show()"
      ]
    },
    {
      "cell_type": "code",
      "execution_count": null,
      "metadata": {
        "id": "piX9Jn3eEAos"
      },
      "outputs": [],
      "source": [
        "import random\n",
        "\n",
        "import cv2\n",
        "from matplotlib import pyplot as plt\n",
        "\n",
        "import albumentations as A"
      ]
    },
    {
      "cell_type": "code",
      "execution_count": null,
      "metadata": {
        "id": "cDIyiboGEaJa"
      },
      "outputs": [],
      "source": [
        "def visualize(image):\n",
        "    # Divide all values by 65535 so we can display the image using matplotlib\n",
        "    image = image / 65535\n",
        "    plt.figure(figsize=(10, 10))\n",
        "    plt.axis('off')\n",
        "    plt.imshow(image)"
      ]
    },
    {
      "cell_type": "code",
      "execution_count": null,
      "metadata": {
        "id": "rTg5_OCCEeEo"
      },
      "outputs": [],
      "source": [
        "# The image is taken from http://www.brucelindbloom.com/index.html?ReferenceImages.html\n",
        "# © Bruce Justin Lindbloom\n",
        "image = cv2.imread('/content/sample_data/S2B_MSIL2A_20190605T100039_N0212_R122_T33TTG_20190605T143319.SAFE/GRANULE/L2A_T33TTG_A011731_20190605T100530/IMG_DATA/RGB.tiff', cv2.IMREAD_UNCHANGED)\n",
        "image = cv2.cvtColor(image, cv2.COLOR_BGR2RGB)\n",
        "visualize(image)"
      ]
    },
    {
      "cell_type": "code",
      "execution_count": null,
      "metadata": {
        "id": "w2qM7LFJGp24"
      },
      "outputs": [],
      "source": [
        "!pip install earthpy"
      ]
    },
    {
      "cell_type": "code",
      "execution_count": null,
      "metadata": {
        "id": "zHDWpkSYGp5n"
      },
      "outputs": [],
      "source": [
        "from glob import glob\n",
        "import earthpy as et\n",
        "import earthpy.spatial as es\n",
        "import earthpy.plot as ep\n",
        "import rasterio as rio\n",
        "import matplotlib.pyplot as plt\n",
        "import numpy as np\n",
        "from matplotlib.colors import ListedColormap\n",
        "import plotly.graph_objects as go"
      ]
    },
    {
      "cell_type": "code",
      "execution_count": null,
      "metadata": {
        "id": "kd0a7QhHGp_A"
      },
      "outputs": [],
      "source": [
        "np.seterr(divide='ignore', invalid='ignore')\n",
        "S_sentinel_bands = glob(\"/content/RGB.tiff\")\n",
        "S_sentinel_bands.sort()"
      ]
    },
    {
      "cell_type": "code",
      "execution_count": null,
      "metadata": {
        "id": "bXI0N9gEHApP"
      },
      "outputs": [],
      "source": [
        "l = []\n",
        "for i in S_sentinel_bands:\n",
        "    with rio.open(i, 'r') as f:\n",
        "        l.append(f.read(1))\n",
        "arr_st = np.stack(l)\n",
        "ep.plot_bands(arr_st, cmap = 'gist_earth', figsize = (150, 10), cols = 100, cbar = False)\n",
        "plt.show()"
      ]
    }
  ],
  "metadata": {
    "colab": {
      "name": "Satellite Image Analysis (1).ipynb",
      "provenance": []
    },
    "kernelspec": {
      "display_name": "Python 3",
      "name": "python3"
    },
    "language_info": {
      "name": "python"
    }
  },
  "nbformat": 4,
  "nbformat_minor": 0
}